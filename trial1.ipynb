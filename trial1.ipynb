{
 "cells": [
  {
   "cell_type": "code",
   "execution_count": 68,
   "id": "9910ece6",
   "metadata": {},
   "outputs": [],
   "source": [
    "# conda install pandas"
   ]
  },
  {
   "cell_type": "code",
   "execution_count": 69,
   "id": "06ae8d85",
   "metadata": {},
   "outputs": [],
   "source": [
    "# conda update -n base -c defaults conda"
   ]
  },
  {
   "cell_type": "code",
   "execution_count": 70,
   "id": "043f97e3",
   "metadata": {},
   "outputs": [],
   "source": [
    "# conda install numpy"
   ]
  },
  {
   "cell_type": "code",
   "execution_count": 71,
   "id": "3254cf8e",
   "metadata": {},
   "outputs": [],
   "source": [
    "# conda install matplotlib"
   ]
  },
  {
   "cell_type": "code",
   "execution_count": 72,
   "id": "f4a03ce5",
   "metadata": {},
   "outputs": [],
   "source": [
    "# conda install seaborn"
   ]
  },
  {
   "cell_type": "code",
   "execution_count": 73,
   "id": "4ff059fa",
   "metadata": {},
   "outputs": [],
   "source": [
    "# conda install sklearn"
   ]
  },
  {
   "cell_type": "code",
   "execution_count": 74,
   "id": "a102ddd5",
   "metadata": {},
   "outputs": [],
   "source": [
    "# conda update -n base -c defaults conda"
   ]
  },
  {
   "cell_type": "code",
   "execution_count": null,
   "id": "c0193f0c",
   "metadata": {},
   "outputs": [],
   "source": []
  },
  {
   "cell_type": "code",
   "execution_count": 75,
   "id": "21866d59",
   "metadata": {},
   "outputs": [],
   "source": [
    "import pandas as pd\n",
    "import numpy as np\n",
    "import matplotlib.pyplot as plt\n",
    "import seaborn as sns"
   ]
  },
  {
   "cell_type": "code",
   "execution_count": 76,
   "id": "bceb1487",
   "metadata": {},
   "outputs": [
    {
     "data": {
      "text/html": [
       "<div>\n",
       "<style scoped>\n",
       "    .dataframe tbody tr th:only-of-type {\n",
       "        vertical-align: middle;\n",
       "    }\n",
       "\n",
       "    .dataframe tbody tr th {\n",
       "        vertical-align: top;\n",
       "    }\n",
       "\n",
       "    .dataframe thead th {\n",
       "        text-align: right;\n",
       "    }\n",
       "</style>\n",
       "<table border=\"1\" class=\"dataframe\">\n",
       "  <thead>\n",
       "    <tr style=\"text-align: right;\">\n",
       "      <th></th>\n",
       "      <th>pH</th>\n",
       "      <th>Temperature</th>\n",
       "      <th>Taste</th>\n",
       "      <th>Odour</th>\n",
       "      <th>Fat</th>\n",
       "      <th>Turbidity</th>\n",
       "      <th>Colour</th>\n",
       "      <th>Grade</th>\n",
       "    </tr>\n",
       "  </thead>\n",
       "  <tbody>\n",
       "    <tr>\n",
       "      <th>0</th>\n",
       "      <td>6.6</td>\n",
       "      <td>35</td>\n",
       "      <td>1</td>\n",
       "      <td>0</td>\n",
       "      <td>1</td>\n",
       "      <td>0</td>\n",
       "      <td>254</td>\n",
       "      <td>high</td>\n",
       "    </tr>\n",
       "    <tr>\n",
       "      <th>1</th>\n",
       "      <td>6.6</td>\n",
       "      <td>36</td>\n",
       "      <td>0</td>\n",
       "      <td>1</td>\n",
       "      <td>0</td>\n",
       "      <td>1</td>\n",
       "      <td>253</td>\n",
       "      <td>high</td>\n",
       "    </tr>\n",
       "    <tr>\n",
       "      <th>2</th>\n",
       "      <td>8.5</td>\n",
       "      <td>70</td>\n",
       "      <td>1</td>\n",
       "      <td>1</td>\n",
       "      <td>1</td>\n",
       "      <td>1</td>\n",
       "      <td>246</td>\n",
       "      <td>low</td>\n",
       "    </tr>\n",
       "    <tr>\n",
       "      <th>3</th>\n",
       "      <td>9.5</td>\n",
       "      <td>34</td>\n",
       "      <td>1</td>\n",
       "      <td>1</td>\n",
       "      <td>0</td>\n",
       "      <td>1</td>\n",
       "      <td>255</td>\n",
       "      <td>low</td>\n",
       "    </tr>\n",
       "    <tr>\n",
       "      <th>4</th>\n",
       "      <td>6.6</td>\n",
       "      <td>37</td>\n",
       "      <td>0</td>\n",
       "      <td>0</td>\n",
       "      <td>0</td>\n",
       "      <td>0</td>\n",
       "      <td>255</td>\n",
       "      <td>medium</td>\n",
       "    </tr>\n",
       "  </tbody>\n",
       "</table>\n",
       "</div>"
      ],
      "text/plain": [
       "    pH  Temperature  Taste  Odour  Fat  Turbidity  Colour   Grade\n",
       "0  6.6           35      1      0    1          0     254    high\n",
       "1  6.6           36      0      1    0          1     253    high\n",
       "2  8.5           70      1      1    1          1     246     low\n",
       "3  9.5           34      1      1    0          1     255     low\n",
       "4  6.6           37      0      0    0          0     255  medium"
      ]
     },
     "execution_count": 76,
     "metadata": {},
     "output_type": "execute_result"
    }
   ],
   "source": [
    "file = 'catData.csv'\n",
    "df = pd.read_csv(file)\n",
    "df.head()"
   ]
  },
  {
   "cell_type": "code",
   "execution_count": 77,
   "id": "2fa6897e",
   "metadata": {},
   "outputs": [
    {
     "name": "stdout",
     "output_type": "stream",
     "text": [
      "Number of rows = 1059\n",
      "Number of columns = 8\n"
     ]
    }
   ],
   "source": [
    "print(f\"Number of rows = {df.shape[0]}\")\n",
    "print(f\"Number of columns = {df.shape[1]}\")"
   ]
  },
  {
   "cell_type": "code",
   "execution_count": 78,
   "id": "0f21d25f",
   "metadata": {},
   "outputs": [
    {
     "name": "stdout",
     "output_type": "stream",
     "text": [
      "List of columns: \n",
      " ['pH', 'Temperature', 'Taste', 'Odour', 'Fat', 'Turbidity', 'Colour', 'Grade']\n"
     ]
    }
   ],
   "source": [
    "print(\"List of columns: \\n\", list(df.columns))"
   ]
  },
  {
   "cell_type": "code",
   "execution_count": 79,
   "id": "5081c83b",
   "metadata": {},
   "outputs": [
    {
     "name": "stdout",
     "output_type": "stream",
     "text": [
      "Categorical columns = ['Grade']\n",
      "Numeric columns = ['pH', 'Temperature', 'Taste', 'Odour', 'Fat', 'Turbidity', 'Colour']\n"
     ]
    }
   ],
   "source": [
    "cat_cols = df.select_dtypes(include=['object']).columns.tolist()\n",
    "num_cols = df.select_dtypes(exclude=['object']).columns.tolist()\n",
    "print(f\"Categorical columns = {cat_cols}\")\n",
    "print(f\"Numeric columns = {num_cols}\")"
   ]
  },
  {
   "cell_type": "code",
   "execution_count": 80,
   "id": "f3fef49d",
   "metadata": {},
   "outputs": [
    {
     "name": "stdout",
     "output_type": "stream",
     "text": [
      "Data types of columns: \n",
      " pH             float64\n",
      "Temperature      int64\n",
      "Taste            int64\n",
      "Odour            int64\n",
      "Fat              int64\n",
      "Turbidity        int64\n",
      "Colour           int64\n",
      "Grade           object\n",
      "dtype: object\n"
     ]
    }
   ],
   "source": [
    "print(\"Data types of columns: \\n\", df.dtypes)"
   ]
  },
  {
   "cell_type": "code",
   "execution_count": 81,
   "id": "7b91365f",
   "metadata": {},
   "outputs": [
    {
     "name": "stdout",
     "output_type": "stream",
     "text": [
      "<class 'pandas.core.frame.DataFrame'>\n",
      "RangeIndex: 1059 entries, 0 to 1058\n",
      "Data columns (total 8 columns):\n",
      " #   Column       Non-Null Count  Dtype  \n",
      "---  ------       --------------  -----  \n",
      " 0   pH           1059 non-null   float64\n",
      " 1   Temperature  1059 non-null   int64  \n",
      " 2   Taste        1059 non-null   int64  \n",
      " 3   Odour        1059 non-null   int64  \n",
      " 4   Fat          1059 non-null   int64  \n",
      " 5   Turbidity    1059 non-null   int64  \n",
      " 6   Colour       1059 non-null   int64  \n",
      " 7   Grade        1059 non-null   object \n",
      "dtypes: float64(1), int64(6), object(1)\n",
      "memory usage: 66.3+ KB\n",
      "Data information: \n",
      " None\n"
     ]
    }
   ],
   "source": [
    "print(\"Data information: \\n\", df.info())"
   ]
  },
  {
   "cell_type": "code",
   "execution_count": 82,
   "id": "efc7fd63",
   "metadata": {},
   "outputs": [
    {
     "name": "stdout",
     "output_type": "stream",
     "text": [
      "Checking for duplicate records: \n",
      "\n",
      "Duplicate rows are present in dataset\n"
     ]
    }
   ],
   "source": [
    "print('Checking for duplicate records: \\n')\n",
    "if df.duplicated().any():\n",
    "    print(\"Duplicate rows are present in dataset\")\n",
    "else:\n",
    "    print(\"No duplicates in dataset\")"
   ]
  },
  {
   "cell_type": "code",
   "execution_count": 83,
   "id": "9ab5f948",
   "metadata": {},
   "outputs": [
    {
     "name": "stdout",
     "output_type": "stream",
     "text": [
      "Display duplicate records: \n",
      "\n"
     ]
    },
    {
     "data": {
      "text/html": [
       "<div>\n",
       "<style scoped>\n",
       "    .dataframe tbody tr th:only-of-type {\n",
       "        vertical-align: middle;\n",
       "    }\n",
       "\n",
       "    .dataframe tbody tr th {\n",
       "        vertical-align: top;\n",
       "    }\n",
       "\n",
       "    .dataframe thead th {\n",
       "        text-align: right;\n",
       "    }\n",
       "</style>\n",
       "<table border=\"1\" class=\"dataframe\">\n",
       "  <thead>\n",
       "    <tr style=\"text-align: right;\">\n",
       "      <th></th>\n",
       "      <th>pH</th>\n",
       "      <th>Temperature</th>\n",
       "      <th>Taste</th>\n",
       "      <th>Odour</th>\n",
       "      <th>Fat</th>\n",
       "      <th>Turbidity</th>\n",
       "      <th>Colour</th>\n",
       "      <th>Grade</th>\n",
       "    </tr>\n",
       "  </thead>\n",
       "  <tbody>\n",
       "    <tr>\n",
       "      <th>35</th>\n",
       "      <td>6.8</td>\n",
       "      <td>45</td>\n",
       "      <td>0</td>\n",
       "      <td>1</td>\n",
       "      <td>1</td>\n",
       "      <td>1</td>\n",
       "      <td>255</td>\n",
       "      <td>high</td>\n",
       "    </tr>\n",
       "    <tr>\n",
       "      <th>48</th>\n",
       "      <td>9.5</td>\n",
       "      <td>34</td>\n",
       "      <td>1</td>\n",
       "      <td>1</td>\n",
       "      <td>0</td>\n",
       "      <td>1</td>\n",
       "      <td>255</td>\n",
       "      <td>low</td>\n",
       "    </tr>\n",
       "    <tr>\n",
       "      <th>50</th>\n",
       "      <td>6.6</td>\n",
       "      <td>37</td>\n",
       "      <td>1</td>\n",
       "      <td>1</td>\n",
       "      <td>1</td>\n",
       "      <td>1</td>\n",
       "      <td>255</td>\n",
       "      <td>high</td>\n",
       "    </tr>\n",
       "    <tr>\n",
       "      <th>51</th>\n",
       "      <td>5.5</td>\n",
       "      <td>45</td>\n",
       "      <td>1</td>\n",
       "      <td>0</td>\n",
       "      <td>1</td>\n",
       "      <td>1</td>\n",
       "      <td>250</td>\n",
       "      <td>low</td>\n",
       "    </tr>\n",
       "    <tr>\n",
       "      <th>52</th>\n",
       "      <td>4.5</td>\n",
       "      <td>60</td>\n",
       "      <td>0</td>\n",
       "      <td>1</td>\n",
       "      <td>1</td>\n",
       "      <td>1</td>\n",
       "      <td>250</td>\n",
       "      <td>low</td>\n",
       "    </tr>\n",
       "    <tr>\n",
       "      <th>...</th>\n",
       "      <td>...</td>\n",
       "      <td>...</td>\n",
       "      <td>...</td>\n",
       "      <td>...</td>\n",
       "      <td>...</td>\n",
       "      <td>...</td>\n",
       "      <td>...</td>\n",
       "      <td>...</td>\n",
       "    </tr>\n",
       "    <tr>\n",
       "      <th>1054</th>\n",
       "      <td>6.7</td>\n",
       "      <td>45</td>\n",
       "      <td>1</td>\n",
       "      <td>1</td>\n",
       "      <td>0</td>\n",
       "      <td>0</td>\n",
       "      <td>247</td>\n",
       "      <td>medium</td>\n",
       "    </tr>\n",
       "    <tr>\n",
       "      <th>1055</th>\n",
       "      <td>6.7</td>\n",
       "      <td>38</td>\n",
       "      <td>1</td>\n",
       "      <td>0</td>\n",
       "      <td>1</td>\n",
       "      <td>0</td>\n",
       "      <td>255</td>\n",
       "      <td>high</td>\n",
       "    </tr>\n",
       "    <tr>\n",
       "      <th>1056</th>\n",
       "      <td>3.0</td>\n",
       "      <td>40</td>\n",
       "      <td>1</td>\n",
       "      <td>1</td>\n",
       "      <td>1</td>\n",
       "      <td>1</td>\n",
       "      <td>255</td>\n",
       "      <td>low</td>\n",
       "    </tr>\n",
       "    <tr>\n",
       "      <th>1057</th>\n",
       "      <td>6.8</td>\n",
       "      <td>43</td>\n",
       "      <td>1</td>\n",
       "      <td>0</td>\n",
       "      <td>1</td>\n",
       "      <td>0</td>\n",
       "      <td>250</td>\n",
       "      <td>high</td>\n",
       "    </tr>\n",
       "    <tr>\n",
       "      <th>1058</th>\n",
       "      <td>8.6</td>\n",
       "      <td>55</td>\n",
       "      <td>0</td>\n",
       "      <td>1</td>\n",
       "      <td>1</td>\n",
       "      <td>1</td>\n",
       "      <td>255</td>\n",
       "      <td>low</td>\n",
       "    </tr>\n",
       "  </tbody>\n",
       "</table>\n",
       "<p>976 rows × 8 columns</p>\n",
       "</div>"
      ],
      "text/plain": [
       "       pH  Temperature  Taste  Odour  Fat  Turbidity  Colour   Grade\n",
       "35    6.8           45      0      1    1          1     255    high\n",
       "48    9.5           34      1      1    0          1     255     low\n",
       "50    6.6           37      1      1    1          1     255    high\n",
       "51    5.5           45      1      0    1          1     250     low\n",
       "52    4.5           60      0      1    1          1     250     low\n",
       "...   ...          ...    ...    ...  ...        ...     ...     ...\n",
       "1054  6.7           45      1      1    0          0     247  medium\n",
       "1055  6.7           38      1      0    1          0     255    high\n",
       "1056  3.0           40      1      1    1          1     255     low\n",
       "1057  6.8           43      1      0    1          0     250    high\n",
       "1058  8.6           55      0      1    1          1     255     low\n",
       "\n",
       "[976 rows x 8 columns]"
      ]
     },
     "execution_count": 83,
     "metadata": {},
     "output_type": "execute_result"
    }
   ],
   "source": [
    "print(\"Display duplicate records: \\n\")\n",
    "df[df.duplicated()]"
   ]
  },
  {
   "cell_type": "code",
   "execution_count": 84,
   "id": "977981cc",
   "metadata": {},
   "outputs": [
    {
     "name": "stdout",
     "output_type": "stream",
     "text": [
      "Drop duplicates\n",
      "Dataset after removing duplicates\n"
     ]
    },
    {
     "data": {
      "text/plain": [
       "(83, 8)"
      ]
     },
     "execution_count": 84,
     "metadata": {},
     "output_type": "execute_result"
    }
   ],
   "source": [
    "print(\"Drop duplicates\")\n",
    "df1 = df.drop_duplicates()\n",
    "print(\"Dataset after removing duplicates\")\n",
    "df1.shape"
   ]
  },
  {
   "cell_type": "code",
   "execution_count": 85,
   "id": "dfafa3cd",
   "metadata": {},
   "outputs": [
    {
     "name": "stdout",
     "output_type": "stream",
     "text": [
      "Checking for missing values in dataset\n"
     ]
    },
    {
     "data": {
      "text/plain": [
       "pH             0\n",
       "Temperature    0\n",
       "Taste          0\n",
       "Odour          0\n",
       "Fat            0\n",
       "Turbidity      0\n",
       "Colour         0\n",
       "Grade          0\n",
       "dtype: int64"
      ]
     },
     "execution_count": 85,
     "metadata": {},
     "output_type": "execute_result"
    }
   ],
   "source": [
    "print(\"Checking for missing values in dataset\")\n",
    "df1.isnull().sum()"
   ]
  },
  {
   "cell_type": "code",
   "execution_count": 86,
   "id": "9bac0328",
   "metadata": {},
   "outputs": [
    {
     "name": "stdout",
     "output_type": "stream",
     "text": [
      "Statistical measures of the numeric columns\n"
     ]
    },
    {
     "data": {
      "text/html": [
       "<div>\n",
       "<style scoped>\n",
       "    .dataframe tbody tr th:only-of-type {\n",
       "        vertical-align: middle;\n",
       "    }\n",
       "\n",
       "    .dataframe tbody tr th {\n",
       "        vertical-align: top;\n",
       "    }\n",
       "\n",
       "    .dataframe thead th {\n",
       "        text-align: right;\n",
       "    }\n",
       "</style>\n",
       "<table border=\"1\" class=\"dataframe\">\n",
       "  <thead>\n",
       "    <tr style=\"text-align: right;\">\n",
       "      <th></th>\n",
       "      <th>pH</th>\n",
       "      <th>Temperature</th>\n",
       "      <th>Taste</th>\n",
       "      <th>Odour</th>\n",
       "      <th>Fat</th>\n",
       "      <th>Turbidity</th>\n",
       "      <th>Colour</th>\n",
       "    </tr>\n",
       "  </thead>\n",
       "  <tbody>\n",
       "    <tr>\n",
       "      <th>count</th>\n",
       "      <td>83.000000</td>\n",
       "      <td>83.000000</td>\n",
       "      <td>83.000000</td>\n",
       "      <td>83.000000</td>\n",
       "      <td>83.000000</td>\n",
       "      <td>83.000000</td>\n",
       "      <td>83.000000</td>\n",
       "    </tr>\n",
       "    <tr>\n",
       "      <th>mean</th>\n",
       "      <td>6.668675</td>\n",
       "      <td>43.698795</td>\n",
       "      <td>0.493976</td>\n",
       "      <td>0.397590</td>\n",
       "      <td>0.602410</td>\n",
       "      <td>0.433735</td>\n",
       "      <td>251.313253</td>\n",
       "    </tr>\n",
       "    <tr>\n",
       "      <th>std</th>\n",
       "      <td>0.986856</td>\n",
       "      <td>9.379187</td>\n",
       "      <td>0.503003</td>\n",
       "      <td>0.492375</td>\n",
       "      <td>0.492375</td>\n",
       "      <td>0.498602</td>\n",
       "      <td>4.577058</td>\n",
       "    </tr>\n",
       "    <tr>\n",
       "      <th>min</th>\n",
       "      <td>3.000000</td>\n",
       "      <td>34.000000</td>\n",
       "      <td>0.000000</td>\n",
       "      <td>0.000000</td>\n",
       "      <td>0.000000</td>\n",
       "      <td>0.000000</td>\n",
       "      <td>240.000000</td>\n",
       "    </tr>\n",
       "    <tr>\n",
       "      <th>25%</th>\n",
       "      <td>6.500000</td>\n",
       "      <td>38.000000</td>\n",
       "      <td>0.000000</td>\n",
       "      <td>0.000000</td>\n",
       "      <td>0.000000</td>\n",
       "      <td>0.000000</td>\n",
       "      <td>247.000000</td>\n",
       "    </tr>\n",
       "    <tr>\n",
       "      <th>50%</th>\n",
       "      <td>6.600000</td>\n",
       "      <td>41.000000</td>\n",
       "      <td>0.000000</td>\n",
       "      <td>0.000000</td>\n",
       "      <td>1.000000</td>\n",
       "      <td>0.000000</td>\n",
       "      <td>255.000000</td>\n",
       "    </tr>\n",
       "    <tr>\n",
       "      <th>75%</th>\n",
       "      <td>6.800000</td>\n",
       "      <td>45.000000</td>\n",
       "      <td>1.000000</td>\n",
       "      <td>1.000000</td>\n",
       "      <td>1.000000</td>\n",
       "      <td>1.000000</td>\n",
       "      <td>255.000000</td>\n",
       "    </tr>\n",
       "    <tr>\n",
       "      <th>max</th>\n",
       "      <td>9.500000</td>\n",
       "      <td>90.000000</td>\n",
       "      <td>1.000000</td>\n",
       "      <td>1.000000</td>\n",
       "      <td>1.000000</td>\n",
       "      <td>1.000000</td>\n",
       "      <td>255.000000</td>\n",
       "    </tr>\n",
       "  </tbody>\n",
       "</table>\n",
       "</div>"
      ],
      "text/plain": [
       "              pH  Temperature      Taste      Odour        Fat  Turbidity  \\\n",
       "count  83.000000    83.000000  83.000000  83.000000  83.000000  83.000000   \n",
       "mean    6.668675    43.698795   0.493976   0.397590   0.602410   0.433735   \n",
       "std     0.986856     9.379187   0.503003   0.492375   0.492375   0.498602   \n",
       "min     3.000000    34.000000   0.000000   0.000000   0.000000   0.000000   \n",
       "25%     6.500000    38.000000   0.000000   0.000000   0.000000   0.000000   \n",
       "50%     6.600000    41.000000   0.000000   0.000000   1.000000   0.000000   \n",
       "75%     6.800000    45.000000   1.000000   1.000000   1.000000   1.000000   \n",
       "max     9.500000    90.000000   1.000000   1.000000   1.000000   1.000000   \n",
       "\n",
       "           Colour  \n",
       "count   83.000000  \n",
       "mean   251.313253  \n",
       "std      4.577058  \n",
       "min    240.000000  \n",
       "25%    247.000000  \n",
       "50%    255.000000  \n",
       "75%    255.000000  \n",
       "max    255.000000  "
      ]
     },
     "execution_count": 86,
     "metadata": {},
     "output_type": "execute_result"
    }
   ],
   "source": [
    "print(\"Statistical measures of the numeric columns\")\n",
    "df1.describe()"
   ]
  },
  {
   "cell_type": "code",
   "execution_count": 87,
   "id": "76452f81",
   "metadata": {},
   "outputs": [
    {
     "data": {
      "text/html": [
       "<div>\n",
       "<style scoped>\n",
       "    .dataframe tbody tr th:only-of-type {\n",
       "        vertical-align: middle;\n",
       "    }\n",
       "\n",
       "    .dataframe tbody tr th {\n",
       "        vertical-align: top;\n",
       "    }\n",
       "\n",
       "    .dataframe thead th {\n",
       "        text-align: right;\n",
       "    }\n",
       "</style>\n",
       "<table border=\"1\" class=\"dataframe\">\n",
       "  <thead>\n",
       "    <tr style=\"text-align: right;\">\n",
       "      <th>Grade</th>\n",
       "      <th>high</th>\n",
       "      <th>low</th>\n",
       "      <th>medium</th>\n",
       "    </tr>\n",
       "  </thead>\n",
       "  <tbody>\n",
       "    <tr>\n",
       "      <th>pH</th>\n",
       "      <td>6.665217</td>\n",
       "      <td>6.726923</td>\n",
       "      <td>6.626471</td>\n",
       "    </tr>\n",
       "    <tr>\n",
       "      <th>Temperature</th>\n",
       "      <td>39.913043</td>\n",
       "      <td>51.500000</td>\n",
       "      <td>40.294118</td>\n",
       "    </tr>\n",
       "    <tr>\n",
       "      <th>Taste</th>\n",
       "      <td>0.695652</td>\n",
       "      <td>0.500000</td>\n",
       "      <td>0.352941</td>\n",
       "    </tr>\n",
       "    <tr>\n",
       "      <th>Odour</th>\n",
       "      <td>0.695652</td>\n",
       "      <td>0.461538</td>\n",
       "      <td>0.147059</td>\n",
       "    </tr>\n",
       "    <tr>\n",
       "      <th>Fat</th>\n",
       "      <td>0.956522</td>\n",
       "      <td>0.653846</td>\n",
       "      <td>0.323529</td>\n",
       "    </tr>\n",
       "    <tr>\n",
       "      <th>Turbidity</th>\n",
       "      <td>0.608696</td>\n",
       "      <td>0.615385</td>\n",
       "      <td>0.176471</td>\n",
       "    </tr>\n",
       "    <tr>\n",
       "      <th>Colour</th>\n",
       "      <td>252.739130</td>\n",
       "      <td>251.615385</td>\n",
       "      <td>250.117647</td>\n",
       "    </tr>\n",
       "  </tbody>\n",
       "</table>\n",
       "</div>"
      ],
      "text/plain": [
       "Grade              high         low      medium\n",
       "pH             6.665217    6.726923    6.626471\n",
       "Temperature   39.913043   51.500000   40.294118\n",
       "Taste          0.695652    0.500000    0.352941\n",
       "Odour          0.695652    0.461538    0.147059\n",
       "Fat            0.956522    0.653846    0.323529\n",
       "Turbidity      0.608696    0.615385    0.176471\n",
       "Colour       252.739130  251.615385  250.117647"
      ]
     },
     "execution_count": 87,
     "metadata": {},
     "output_type": "execute_result"
    }
   ],
   "source": [
    "df1.groupby('Grade').mean().T"
   ]
  },
  {
   "cell_type": "code",
   "execution_count": 88,
   "id": "cea7c683",
   "metadata": {},
   "outputs": [
    {
     "name": "stdout",
     "output_type": "stream",
     "text": [
      "Unique values in columns: \n",
      "pH\n",
      "6.6    25\n",
      "6.8    19\n",
      "6.5    16\n",
      "6.7     5\n",
      "8.5     2\n",
      "4.5     2\n",
      "8.6     2\n",
      "7.4     2\n",
      "3.0     2\n",
      "9.0     2\n",
      "9.5     1\n",
      "5.5     1\n",
      "8.1     1\n",
      "5.6     1\n",
      "4.7     1\n",
      "6.4     1\n",
      "Name: count, dtype: int64\n",
      "----------------------\n",
      "\n",
      "Temperature\n",
      "45    16\n",
      "40    11\n",
      "38    11\n",
      "50     6\n",
      "43     6\n",
      "37     6\n",
      "36     5\n",
      "55     4\n",
      "41     4\n",
      "35     4\n",
      "34     3\n",
      "70     2\n",
      "90     1\n",
      "66     1\n",
      "60     1\n",
      "42     1\n",
      "65     1\n",
      "Name: count, dtype: int64\n",
      "----------------------\n",
      "\n",
      "Taste\n",
      "0    42\n",
      "1    41\n",
      "Name: count, dtype: int64\n",
      "----------------------\n",
      "\n",
      "Odour\n",
      "0    50\n",
      "1    33\n",
      "Name: count, dtype: int64\n",
      "----------------------\n",
      "\n",
      "Fat\n",
      "1    50\n",
      "0    33\n",
      "Name: count, dtype: int64\n",
      "----------------------\n",
      "\n",
      "Turbidity\n",
      "0    47\n",
      "1    36\n",
      "Name: count, dtype: int64\n",
      "----------------------\n",
      "\n",
      "Colour\n",
      "255    43\n",
      "250    13\n",
      "245     8\n",
      "246     7\n",
      "240     4\n",
      "253     3\n",
      "247     3\n",
      "254     1\n",
      "248     1\n",
      "Name: count, dtype: int64\n",
      "----------------------\n",
      "\n",
      "Grade\n",
      "medium    34\n",
      "low       26\n",
      "high      23\n",
      "Name: count, dtype: int64\n",
      "----------------------\n",
      "\n"
     ]
    }
   ],
   "source": [
    "print(\"Unique values in columns: \")\n",
    "for col in df1.columns:\n",
    "    print(df1[col].value_counts())\n",
    "    print(\"----------------------\")\n",
    "    print(\"\")"
   ]
  },
  {
   "cell_type": "code",
   "execution_count": 89,
   "id": "a1243359",
   "metadata": {},
   "outputs": [
    {
     "data": {
      "text/plain": [
       "Index(['pH', 'Temperature', 'Taste', 'Odour', 'Fat', 'Turbidity', 'Colour',\n",
       "       'Grade'],\n",
       "      dtype='object')"
      ]
     },
     "execution_count": 89,
     "metadata": {},
     "output_type": "execute_result"
    }
   ],
   "source": [
    "df1.columns"
   ]
  },
  {
   "cell_type": "code",
   "execution_count": 133,
   "id": "46f1a2a8",
   "metadata": {},
   "outputs": [
    {
     "data": {
      "image/png": "[encoded data removed]",
      "text/plain": [
       "<Figure size 640x480 with 1 Axes>"
      ]
     },
     "metadata": {},
     "output_type": "display_data"
    },
    {
     "data": {
      "image/png": "[encoded data removed]",
      "text/plain": [
       "<Figure size 640x480 with 1 Axes>"
      ]
     },
     "metadata": {},
     "output_type": "display_data"
    },
    {
     "data": {
      "image/png": "[encoded data removed]",
      "text/plain": [
       "<Figure size 640x480 with 1 Axes>"
      ]
     },
     "metadata": {},
     "output_type": "display_data"
    },
    {
     "data": {
      "image/png": "[encoded data removed]",
      "text/plain": [
       "<Figure size 640x480 with 1 Axes>"
      ]
     },
     "metadata": {},
     "output_type": "display_data"
    }
   ],
   "source": [
    "cols = ['Taste', 'Odour', 'Fat','Turbidity']\n",
    "for col in cols:\n",
    "    pd.crosstab(df1.Grade,df1[col]).plot(kind='bar')"
   ]
  },
  {
   "cell_type": "code",
   "execution_count": 91,
   "id": "53f1ede0",
   "metadata": {},
   "outputs": [
    {
     "data": {
      "text/plain": [
       "Grade\n",
       "medium    34\n",
       "low       26\n",
       "high      23\n",
       "Name: count, dtype: int64"
      ]
     },
     "execution_count": 91,
     "metadata": {},
     "output_type": "execute_result"
    }
   ],
   "source": [
    "df1['Grade'].value_counts()"
   ]
  },
  {
   "cell_type": "code",
   "execution_count": 134,
   "id": "9555735a",
   "metadata": {},
   "outputs": [
    {
     "data": {
      "text/plain": [
       "<Axes: xlabel='Grade'>"
      ]
     },
     "execution_count": 134,
     "metadata": {},
     "output_type": "execute_result"
    },
    {
     "data": {
      "image/png": "[encoded data removed]",
      "text/plain": [
       "<Figure size 640x480 with 1 Axes>"
      ]
     },
     "metadata": {},
     "output_type": "display_data"
    }
   ],
   "source": [
    "df1['Grade'].value_counts().plot(kind='bar')"
   ]
  },
  {
   "cell_type": "code",
   "execution_count": 135,
   "id": "51290cca",
   "metadata": {},
   "outputs": [
    {
     "data": {
      "image/png": "[encoded data removed]",
      "text/plain": [
       "<Figure size 1000x1000 with 9 Axes>"
      ]
     },
     "metadata": {},
     "output_type": "display_data"
    }
   ],
   "source": [
    "data_hist_plot = df1.hist(figsize = (10, 10), color = \"#5F9EA0\")"
   ]
  },
  {
   "cell_type": "code",
   "execution_count": 136,
   "id": "ef8d9bdf",
   "metadata": {},
   "outputs": [
    {
     "data": {
      "image/png": "[encoded data removed]",
      "text/plain": [
       "<Figure size 640x480 with 1 Axes>"
      ]
     },
     "metadata": {},
     "output_type": "display_data"
    },
    {
     "data": {
      "image/png": "[encoded data removed]",
      "text/plain": [
       "<Figure size 640x480 with 1 Axes>"
      ]
     },
     "metadata": {},
     "output_type": "display_data"
    },
    {
     "data": {
      "image/png": "[encoded data removed]",
      "text/plain": [
       "<Figure size 640x480 with 1 Axes>"
      ]
     },
     "metadata": {},
     "output_type": "display_data"
    },
    {
     "data": {
      "image/png": "[encoded data removed]",
      "text/plain": [
       "<Figure size 640x480 with 1 Axes>"
      ]
     },
     "metadata": {},
     "output_type": "display_data"
    },
    {
     "data": {
      "image/png": "[encoded data removed]",
      "text/plain": [
       "<Figure size 640x480 with 1 Axes>"
      ]
     },
     "metadata": {},
     "output_type": "display_data"
    },
    {
     "data": {
      "image/png": "[encoded data removed]",
      "text/plain": [
       "<Figure size 640x480 with 1 Axes>"
      ]
     },
     "metadata": {},
     "output_type": "display_data"
    },
    {
     "data": {
      "image/png": "[encoded data removed]",
      "text/plain": [
       "<Figure size 640x480 with 1 Axes>"
      ]
     },
     "metadata": {},
     "output_type": "display_data"
    }
   ],
   "source": [
    "for col in num_cols:\n",
    "    df1[col].plot(kind='box')\n",
    "    plt.title(col)\n",
    "    plt.show()"
   ]
  },
  {
   "cell_type": "code",
   "execution_count": 137,
   "id": "7a2b6ab4",
   "metadata": {},
   "outputs": [
    {
     "data": {
      "image/png": "[encoded data removed]",
      "text/plain": [
       "<Figure size 1200x300 with 3 Axes>"
      ]
     },
     "metadata": {},
     "output_type": "display_data"
    }
   ],
   "source": [
    "cols = ['pH', 'Temperature', 'Colour']\n",
    "fig, axes = plt.subplots(ncols = 3, figsize = (12, 3))\n",
    "for column, axis in zip(cols, axes):\n",
    "    sns.boxplot(data=df1[column], ax=axis)\n",
    "    axis.set_title(column)\n",
    "plt.tight_layout()\n",
    "plt.show()"
   ]
  },
  {
   "cell_type": "code",
   "execution_count": 96,
   "id": "ada41967",
   "metadata": {},
   "outputs": [
    {
     "data": {
      "text/html": [
       "<div>\n",
       "<style scoped>\n",
       "    .dataframe tbody tr th:only-of-type {\n",
       "        vertical-align: middle;\n",
       "    }\n",
       "\n",
       "    .dataframe tbody tr th {\n",
       "        vertical-align: top;\n",
       "    }\n",
       "\n",
       "    .dataframe thead th {\n",
       "        text-align: right;\n",
       "    }\n",
       "</style>\n",
       "<table border=\"1\" class=\"dataframe\">\n",
       "  <thead>\n",
       "    <tr style=\"text-align: right;\">\n",
       "      <th></th>\n",
       "      <th>pH</th>\n",
       "      <th>Temperature</th>\n",
       "      <th>Taste</th>\n",
       "      <th>Odour</th>\n",
       "      <th>Fat</th>\n",
       "      <th>Turbidity</th>\n",
       "      <th>Colour</th>\n",
       "      <th>Grade</th>\n",
       "    </tr>\n",
       "  </thead>\n",
       "  <tbody>\n",
       "    <tr>\n",
       "      <th>0</th>\n",
       "      <td>6.6</td>\n",
       "      <td>35</td>\n",
       "      <td>1</td>\n",
       "      <td>0</td>\n",
       "      <td>1</td>\n",
       "      <td>0</td>\n",
       "      <td>254</td>\n",
       "      <td>high</td>\n",
       "    </tr>\n",
       "    <tr>\n",
       "      <th>1</th>\n",
       "      <td>6.6</td>\n",
       "      <td>36</td>\n",
       "      <td>0</td>\n",
       "      <td>1</td>\n",
       "      <td>0</td>\n",
       "      <td>1</td>\n",
       "      <td>253</td>\n",
       "      <td>high</td>\n",
       "    </tr>\n",
       "    <tr>\n",
       "      <th>2</th>\n",
       "      <td>8.5</td>\n",
       "      <td>70</td>\n",
       "      <td>1</td>\n",
       "      <td>1</td>\n",
       "      <td>1</td>\n",
       "      <td>1</td>\n",
       "      <td>246</td>\n",
       "      <td>low</td>\n",
       "    </tr>\n",
       "    <tr>\n",
       "      <th>3</th>\n",
       "      <td>9.5</td>\n",
       "      <td>34</td>\n",
       "      <td>1</td>\n",
       "      <td>1</td>\n",
       "      <td>0</td>\n",
       "      <td>1</td>\n",
       "      <td>255</td>\n",
       "      <td>low</td>\n",
       "    </tr>\n",
       "    <tr>\n",
       "      <th>4</th>\n",
       "      <td>6.6</td>\n",
       "      <td>37</td>\n",
       "      <td>0</td>\n",
       "      <td>0</td>\n",
       "      <td>0</td>\n",
       "      <td>0</td>\n",
       "      <td>255</td>\n",
       "      <td>medium</td>\n",
       "    </tr>\n",
       "  </tbody>\n",
       "</table>\n",
       "</div>"
      ],
      "text/plain": [
       "    pH  Temperature  Taste  Odour  Fat  Turbidity  Colour   Grade\n",
       "0  6.6           35      1      0    1          0     254    high\n",
       "1  6.6           36      0      1    0          1     253    high\n",
       "2  8.5           70      1      1    1          1     246     low\n",
       "3  9.5           34      1      1    0          1     255     low\n",
       "4  6.6           37      0      0    0          0     255  medium"
      ]
     },
     "execution_count": 96,
     "metadata": {},
     "output_type": "execute_result"
    }
   ],
   "source": [
    "df1.head()"
   ]
  },
  {
   "cell_type": "code",
   "execution_count": 97,
   "id": "1057ad96",
   "metadata": {},
   "outputs": [
    {
     "name": "stdout",
     "output_type": "stream",
     "text": [
      "Convert target Variable [Grade] into Numbers\n",
      "low = 0, medium = 1, high = 2\n"
     ]
    }
   ],
   "source": [
    "print('Convert target Variable [Grade] into Numbers')\n",
    "print('low = 0, medium = 1, high = 2')"
   ]
  },
  {
   "cell_type": "code",
   "execution_count": 98,
   "id": "ebde41f3",
   "metadata": {},
   "outputs": [
    {
     "name": "stdout",
     "output_type": "stream",
     "text": [
      "Target variable Grade after encoding \n"
     ]
    },
    {
     "name": "stderr",
     "output_type": "stream",
     "text": [
      "C:\\Users\\KIIT\\AppData\\Local\\Temp\\ipykernel_17864\\2961059862.py:9: SettingWithCopyWarning: \n",
      "A value is trying to be set on a copy of a slice from a DataFrame.\n",
      "Try using .loc[row_indexer,col_indexer] = value instead\n",
      "\n",
      "See the caveats in the documentation: https://pandas.pydata.org/pandas-docs/stable/user_guide/indexing.html#returning-a-view-versus-a-copy\n",
      "  df1['Grade'] = df1['Grade'].apply(lambda x : grade_label(x))\n"
     ]
    },
    {
     "data": {
      "text/html": [
       "<div>\n",
       "<style scoped>\n",
       "    .dataframe tbody tr th:only-of-type {\n",
       "        vertical-align: middle;\n",
       "    }\n",
       "\n",
       "    .dataframe tbody tr th {\n",
       "        vertical-align: top;\n",
       "    }\n",
       "\n",
       "    .dataframe thead th {\n",
       "        text-align: right;\n",
       "    }\n",
       "</style>\n",
       "<table border=\"1\" class=\"dataframe\">\n",
       "  <thead>\n",
       "    <tr style=\"text-align: right;\">\n",
       "      <th></th>\n",
       "      <th>pH</th>\n",
       "      <th>Temperature</th>\n",
       "      <th>Taste</th>\n",
       "      <th>Odour</th>\n",
       "      <th>Fat</th>\n",
       "      <th>Turbidity</th>\n",
       "      <th>Colour</th>\n",
       "      <th>Grade</th>\n",
       "    </tr>\n",
       "  </thead>\n",
       "  <tbody>\n",
       "    <tr>\n",
       "      <th>0</th>\n",
       "      <td>6.6</td>\n",
       "      <td>35</td>\n",
       "      <td>1</td>\n",
       "      <td>0</td>\n",
       "      <td>1</td>\n",
       "      <td>0</td>\n",
       "      <td>254</td>\n",
       "      <td>2</td>\n",
       "    </tr>\n",
       "    <tr>\n",
       "      <th>1</th>\n",
       "      <td>6.6</td>\n",
       "      <td>36</td>\n",
       "      <td>0</td>\n",
       "      <td>1</td>\n",
       "      <td>0</td>\n",
       "      <td>1</td>\n",
       "      <td>253</td>\n",
       "      <td>2</td>\n",
       "    </tr>\n",
       "    <tr>\n",
       "      <th>2</th>\n",
       "      <td>8.5</td>\n",
       "      <td>70</td>\n",
       "      <td>1</td>\n",
       "      <td>1</td>\n",
       "      <td>1</td>\n",
       "      <td>1</td>\n",
       "      <td>246</td>\n",
       "      <td>0</td>\n",
       "    </tr>\n",
       "    <tr>\n",
       "      <th>3</th>\n",
       "      <td>9.5</td>\n",
       "      <td>34</td>\n",
       "      <td>1</td>\n",
       "      <td>1</td>\n",
       "      <td>0</td>\n",
       "      <td>1</td>\n",
       "      <td>255</td>\n",
       "      <td>0</td>\n",
       "    </tr>\n",
       "    <tr>\n",
       "      <th>4</th>\n",
       "      <td>6.6</td>\n",
       "      <td>37</td>\n",
       "      <td>0</td>\n",
       "      <td>0</td>\n",
       "      <td>0</td>\n",
       "      <td>0</td>\n",
       "      <td>255</td>\n",
       "      <td>1</td>\n",
       "    </tr>\n",
       "  </tbody>\n",
       "</table>\n",
       "</div>"
      ],
      "text/plain": [
       "    pH  Temperature  Taste  Odour  Fat  Turbidity  Colour  Grade\n",
       "0  6.6           35      1      0    1          0     254      2\n",
       "1  6.6           36      0      1    0          1     253      2\n",
       "2  8.5           70      1      1    1          1     246      0\n",
       "3  9.5           34      1      1    0          1     255      0\n",
       "4  6.6           37      0      0    0          0     255      1"
      ]
     },
     "execution_count": 98,
     "metadata": {},
     "output_type": "execute_result"
    }
   ],
   "source": [
    "def grade_label(x):\n",
    "    if x==\"high\":\n",
    "        return 2\n",
    "    elif x==\"medium\":\n",
    "        return 1\n",
    "    else:\n",
    "        return 0\n",
    "\n",
    "df1['Grade'] = df1['Grade'].apply(lambda x : grade_label(x))\n",
    "\n",
    "print(\"Target variable Grade after encoding \")\n",
    "df1.head()"
   ]
  },
  {
   "cell_type": "code",
   "execution_count": 99,
   "id": "f8d37fc8",
   "metadata": {},
   "outputs": [
    {
     "name": "stdout",
     "output_type": "stream",
     "text": [
      "X-Features and y-Labels\n",
      "X-Features\n",
      "\n",
      "    pH  Temperature  Taste  Odour  Fat  Turbidity  Colour\n",
      "0  6.6           35      1      0    1          0     254\n",
      "1  6.6           36      0      1    0          1     253\n",
      "2  8.5           70      1      1    1          1     246\n",
      "3  9.5           34      1      1    0          1     255\n",
      "4  6.6           37      0      0    0          0     255\n",
      "\n",
      "y-Labels\n",
      "0    2\n",
      "1    2\n",
      "2    0\n",
      "3    0\n",
      "4    1\n",
      "Name: Grade, dtype: int64\n"
     ]
    }
   ],
   "source": [
    "print(\"X-Features and y-Labels\")\n",
    "X = df1.drop('Grade', axis = 1)\n",
    "y = df1.Grade\n",
    "print(\"X-Features\\n\")\n",
    "print(X.head())\n",
    "print(\"\")\n",
    "print(\"y-Labels\")\n",
    "print(y.head())"
   ]
  },
  {
   "cell_type": "code",
   "execution_count": 120,
   "id": "ee4ae071",
   "metadata": {},
   "outputs": [
    {
     "name": "stdout",
     "output_type": "stream",
     "text": [
      "Splitting the data into training set & testing set\n",
      "Training size =  (74, 7)\n",
      "Testing size =  (9, 7)\n",
      "14     2\n",
      "5      2\n",
      "37     0\n",
      "17     0\n",
      "565    0\n",
      "      ..\n",
      "29     2\n",
      "8      0\n",
      "46     1\n",
      "7      0\n",
      "61     2\n",
      "Name: Grade, Length: 74, dtype: int64\n"
     ]
    }
   ],
   "source": [
    "print(\"Splitting the data into training set & testing set\")\n",
    "from sklearn.model_selection import train_test_split\n",
    "X_train, X_test, y_train, y_test = train_test_split(X, y, test_size = 0.1, random_state = 42, stratify=y)\n",
    "print(\"Training size = \", X_train.shape)\n",
    "print(\"Testing size = \", X_test.shape)\n",
    "print(y_train)"
   ]
  },
  {
   "cell_type": "code",
   "execution_count": 121,
   "id": "4df897ae",
   "metadata": {},
   "outputs": [],
   "source": [
    "from sklearn.ensemble import GradientBoostingClassifier"
   ]
  },
  {
   "cell_type": "code",
   "execution_count": 122,
   "id": "e3d5e5c5",
   "metadata": {},
   "outputs": [],
   "source": [
    "from sklearn.metrics import confusion_matrix\n",
    "from sklearn.metrics import accuracy_score\n",
    "from sklearn.metrics import f1_score\n",
    "from sklearn.metrics import classification_report\n",
    "from sklearn.model_selection import cross_val_score"
   ]
  },
  {
   "cell_type": "code",
   "execution_count": 123,
   "id": "4afffe01",
   "metadata": {},
   "outputs": [],
   "source": [
    "GBC = GradientBoostingClassifier()"
   ]
  },
  {
   "cell_type": "code",
   "execution_count": 124,
   "id": "ae12d1f0",
   "metadata": {},
   "outputs": [
    {
     "name": "stdout",
     "output_type": "stream",
     "text": [
      "Evaluation metrics for Gradient Boosting Classifier\n",
      "\n",
      "              precision    recall  f1-score   support\n",
      "\n",
      "           0       1.00      1.00      1.00         3\n",
      "           1       0.80      1.00      0.89         4\n",
      "           2       1.00      0.50      0.67         2\n",
      "\n",
      "    accuracy                           0.89         9\n",
      "   macro avg       0.93      0.83      0.85         9\n",
      "weighted avg       0.91      0.89      0.88         9\n",
      "\n"
     ]
    }
   ],
   "source": [
    "print(\"Evaluation metrics for Gradient Boosting Classifier\")\n",
    "GBC.fit(X_train, y_train)\n",
    "y_pred = GBC.predict(X_test)\n",
    "print(\"\")\n",
    "print(classification_report(y_test, y_pred))"
   ]
  },
  {
   "cell_type": "code",
   "execution_count": 125,
   "id": "a6e582ef",
   "metadata": {},
   "outputs": [
    {
     "data": {
      "text/plain": [
       "<Axes: >"
      ]
     },
     "execution_count": 125,
     "metadata": {},
     "output_type": "execute_result"
    },
    {
     "data": {
      "image/png": "[encoded data removed]",
      "text/plain": [
       "<Figure size 640x480 with 2 Axes>"
      ]
     },
     "metadata": {},
     "output_type": "display_data"
    }
   ],
   "source": [
    "cm = confusion_matrix(y_test, y_pred)\n",
    "sns.heatmap(cm, annot = True)"
   ]
  },
  {
   "cell_type": "code",
   "execution_count": 131,
   "id": "23dfb9d1-1a6f-469c-9ff5-1ac9690730af",
   "metadata": {},
   "outputs": [
    {
     "name": "stdin",
     "output_type": "stream",
     "text": [
      "Input pH:  6.6\n",
      "Input the temperature:  37\n",
      "Input taste:  1\n",
      "Input odor:  0\n",
      "Input fat:  1\n",
      "Input turbidity:  0\n",
      "Input colour:  255\n"
     ]
    }
   ],
   "source": [
    "pH = float(input(\"Input pH: \"))\n",
    "temp = float(input(\"Input the temperature: \"))\n",
    "taste = float(input(\"Input taste: \"))\n",
    "odor = float(input(\"Input odor: \"))\n",
    "fat = float(input(\"Input fat: \"))\n",
    "turb = float(input(\"Input turbidity: \"))\n",
    "color = float(input(\"Input colour: \"))"
   ]
  },
  {
   "cell_type": "code",
   "execution_count": 132,
   "id": "ffab0cc1-c40a-4f8e-be64-6d254f66e032",
   "metadata": {},
   "outputs": [
    {
     "name": "stdout",
     "output_type": "stream",
     "text": [
      "Milk is Pure\n"
     ]
    },
    {
     "name": "stderr",
     "output_type": "stream",
     "text": [
      "C:\\Users\\KIIT\\anaconda3\\Lib\\site-packages\\sklearn\\base.py:439: UserWarning: X does not have valid feature names, but GradientBoostingClassifier was fitted with feature names\n",
      "  warnings.warn(\n"
     ]
    }
   ],
   "source": [
    "input_data = [pH, temp, taste, odor, fat, turb, color]\n",
    "prediction = GBC.predict([input_data])\n",
    "if prediction[0] == 2:\n",
    "    print(\"Milk is Pure\")\n",
    "elif prediction[0] == 1:\n",
    "    print(\"Milk is Average\")\n",
    "else:\n",
    "    print(\"Milk is Bad\")"
   ]
  },
  {
   "cell_type": "code",
   "execution_count": 108,
   "id": "b7570f3c-2630-424c-9e8b-01655e6ca5b4",
   "metadata": {},
   "outputs": [
    {
     "data": {
      "image/png": "[encoded data removed]",
      "text/plain": [
       "<Figure size 1000x600 with 1 Axes>"
      ]
     },
     "metadata": {},
     "output_type": "display_data"
    }
   ],
   "source": [
    "plt.figure(figsize=(10, 6))\n",
    "plt.scatter(y_test, y_pred)\n",
    "plt.plot([y_test.min(), y_test.max()], [y_test.min(), y_test.max()], 'k--', lw=2)  # diagonal line\n",
    "plt.xlabel(\"Actual values\")\n",
    "plt.ylabel(\"Predicted values\")\n",
    "plt.title(\"Actual vs Predicted values\")\n",
    "plt.show()"
   ]
  },
  {
   "cell_type": "code",
   "execution_count": 109,
   "id": "329b0f1d-80d1-4b94-943f-55d743b118a2",
   "metadata": {},
   "outputs": [
    {
     "ename": "NameError",
     "evalue": "name 'gnb' is not defined",
     "output_type": "error",
     "traceback": [
      "\u001b[1;31m---------------------------------------------------------------------------\u001b[0m",
      "\u001b[1;31mNameError\u001b[0m                                 Traceback (most recent call last)",
      "Cell \u001b[1;32mIn[109], line 1\u001b[0m\n\u001b[1;32m----> 1\u001b[0m accuracy \u001b[38;5;241m=\u001b[39m gnb\u001b[38;5;241m.\u001b[39mscore(X_test, y_test)\n\u001b[0;32m      2\u001b[0m \u001b[38;5;28mprint\u001b[39m(accuracy)\n",
      "\u001b[1;31mNameError\u001b[0m: name 'gnb' is not defined"
     ]
    }
   ],
   "source": [
    "accuracy = gnb.score(X_test, y_test)\n",
    "print(accuracy)"
   ]
  }
 ],
 "metadata": {
  "kernelspec": {
   "display_name": "Python 3 (ipykernel)",
   "language": "python",
   "name": "python3"
  },
  "language_info": {
   "codemirror_mode": {
    "name": "ipython",
    "version": 3
   },
   "file_extension": ".py",
   "mimetype": "text/x-python",
   "name": "python",
   "nbconvert_exporter": "python",
   "pygments_lexer": "ipython3",
   "version": "3.11.5"
  }
 },
 "nbformat": 4,
 "nbformat_minor": 5
}
